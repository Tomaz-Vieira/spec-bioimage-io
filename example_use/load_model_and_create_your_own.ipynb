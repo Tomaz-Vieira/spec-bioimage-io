{
 "cells": [
  {
   "cell_type": "code",
   "execution_count": null,
   "metadata": {},
   "outputs": [],
   "source": [
    "from bioimageio.spec.pretty_validation_errors import (\n",
    "    enable_pretty_validation_errors_in_ipynb,\n",
    ")\n",
    "\n",
    "enable_pretty_validation_errors_in_ipynb()"
   ]
  },
  {
   "cell_type": "markdown",
   "metadata": {},
   "source": [
    "## Load and inspect a model description"
   ]
  },
  {
   "cell_type": "code",
   "execution_count": null,
   "metadata": {},
   "outputs": [],
   "source": [
    "from bioimageio.spec import InvalidDescr, load_description\n",
    "from bioimageio.spec.common import HttpUrl\n",
    "from bioimageio.spec.model import ModelDescr\n",
    "\n",
    "# examples tested with this notebook\n",
    "IMPARTIAL_SHRIMP = \"impartial-shrimp\"\n",
    "PIONEERING_RHINO = \"pioneering-rhino\"\n",
    "\n",
    "# example_model_id = IMPARTIAL_SHRIMP\n",
    "example_model_id = PIONEERING_RHINO\n",
    "\n",
    "# TODO: load bioimageio id from new S3 collection\n",
    "if example_model_id == IMPARTIAL_SHRIMP:  # pyright: ignore[reportUnnecessaryComparison]\n",
    "    url = \"https://bioimage-io.github.io/collection-bioimage-io/rdfs/10.5281/zenodo.5874741/5874742/rdf.yaml\"\n",
    "elif example_model_id == PIONEERING_RHINO:\n",
    "    url = \"https://bioimage-io.github.io/collection-bioimage-io/rdfs/10.5281/zenodo.6334383/7805067/rdf.yaml\"\n",
    "else:\n",
    "    raise NotImplementedError(example_model_id)\n",
    "\n",
    "loaded_descr = load_description(url, format_version=\"latest\")\n",
    "if isinstance(loaded_descr, InvalidDescr):\n",
    "    raise ValueError(f\"Failed to load {example_model_id}:\\n{loaded_descr.validation_summary.format()}\")\n",
    "elif not isinstance(loaded_descr, ModelDescr):\n",
    "    raise ValueError(\"This notebook expects a model description\")\n",
    "else:\n",
    "    model = loaded_descr\n",
    "\n",
    "print(f\"loaded '{model.name}'\")\n"
   ]
  },
  {
   "cell_type": "code",
   "execution_count": null,
   "metadata": {},
   "outputs": [],
   "source": [
    "model.validation_summary.display()"
   ]
  },
  {
   "cell_type": "code",
   "execution_count": null,
   "metadata": {},
   "outputs": [],
   "source": [
    "import matplotlib.pyplot as plt\n",
    "from imageio.v3 import imread\n",
    "\n",
    "from bioimageio.spec.utils import download\n",
    "\n",
    "for cover in model.covers:\n",
    "    cover_data = imread(download(cover).path)\n",
    "    plt.imshow(cover_data)\n",
    "    plt.xticks([])\n",
    "    plt.yticks([])\n",
    "    plt.show()\n"
   ]
  },
  {
   "cell_type": "markdown",
   "metadata": {},
   "source": [
    "the following parts assume we only have a single input and a single output tensor"
   ]
  },
  {
   "cell_type": "code",
   "execution_count": null,
   "metadata": {},
   "outputs": [],
   "source": [
    "assert len(model.inputs) == 1\n",
    "assert len(model.outputs) == 1\n"
   ]
  },
  {
   "cell_type": "code",
   "execution_count": null,
   "metadata": {},
   "outputs": [],
   "source": [
    "from pprint import pprint\n",
    "\n",
    "import numpy as np\n",
    "\n",
    "pprint(model.inputs[0].axes)\n",
    "test_input_path = model.inputs[0].test_tensor.download().path\n",
    "test_input_array = np.load(test_input_path)\n",
    "print(test_input_array.shape)\n"
   ]
  },
  {
   "cell_type": "code",
   "execution_count": null,
   "metadata": {},
   "outputs": [],
   "source": [
    "pprint(model.outputs[0].axes)\n",
    "test_output_path = model.outputs[0].test_tensor.download().path\n",
    "test_output_array = np.load(test_output_path)\n",
    "print(test_output_array.shape)\n"
   ]
  },
  {
   "cell_type": "code",
   "execution_count": null,
   "metadata": {},
   "outputs": [],
   "source": [
    "assert model.weights.pytorch_state_dict is not None\n",
    "pytorch_state_dict_weights_src = model.weights.pytorch_state_dict.download().path\n",
    "print(pytorch_state_dict_weights_src)\n",
    "assert model.weights.torchscript is not None\n",
    "torchscript_weights_src = model.weights.torchscript.download().path\n",
    "print(torchscript_weights_src)\n"
   ]
  },
  {
   "cell_type": "code",
   "execution_count": null,
   "metadata": {},
   "outputs": [],
   "source": [
    "from bioimageio.spec.model.v0_5 import ArchitectureFromFileDescr\n",
    "from bioimageio.spec.utils import download\n",
    "\n",
    "assert model.weights.pytorch_state_dict is not None\n",
    "arch = model.weights.pytorch_state_dict.architecture\n",
    "assert isinstance(arch, ArchitectureFromFileDescr)\n",
    "print(f\"Model architecture given by '{arch.callable}' in {arch.source}\")\n",
    "print(\"architecture key word arguments:\")\n",
    "pprint(arch.kwargs)\n",
    "arch_file_path = download(arch.source, sha256=arch.sha256).path\n",
    "arch_file_sha256 = arch.sha256\n",
    "arch_name = arch.callable\n",
    "arch_kwargs = arch.kwargs\n"
   ]
  },
  {
   "cell_type": "markdown",
   "metadata": {},
   "source": [
    "## Create a model description\n",
    "\n",
    "Let's recreate a model based on parts of the loaded model description from above!\n",
    "\n",
    "Creating a model description in Python means creating a `ModelDescr` object.\n",
    "Without any input data this will raise a `ValidationError` listing missing fields that are required:"
   ]
  },
  {
   "cell_type": "code",
   "execution_count": null,
   "metadata": {},
   "outputs": [],
   "source": [
    "from bioimageio.spec.common import ValidationError\n",
    "from bioimageio.spec.model.v0_5 import ModelDescr\n",
    "\n",
    "try:\n",
    "    my_model_descr = ModelDescr()  # type: ignore\n",
    "except ValidationError as e:\n",
    "    print(e)\n"
   ]
  },
  {
   "cell_type": "markdown",
   "metadata": {},
   "source": [
    "to populate a `ModelDescr` appropriately we create the required subparts.\n",
    "Let's start with the inputs:"
   ]
  },
  {
   "cell_type": "code",
   "execution_count": null,
   "metadata": {},
   "outputs": [],
   "source": [
    "from bioimageio.spec.model.v0_5 import (\n",
    "    Author,\n",
    "    AxisId,\n",
    "    BatchAxis,\n",
    "    ChannelAxis,\n",
    "    CiteEntry,\n",
    "    Doi,\n",
    "    FileDescr,\n",
    "    Identifier,\n",
    "    InputTensorDescr,\n",
    "    IntervalOrRatioDataDescr,\n",
    "    ModelDescr,\n",
    "    OutputTensorDescr,\n",
    "    ParameterizedSize,\n",
    "    PytorchStateDictWeightsDescr,\n",
    "    SizeReference,\n",
    "    SpaceInputAxis,\n",
    "    SpaceOutputAxis,\n",
    "    TensorId,\n",
    "    TorchscriptWeightsDescr,\n",
    "    WeightsDescr,\n",
    ")\n",
    "\n",
    "input_axes = [\n",
    "    BatchAxis(),\n",
    "    ChannelAxis(channel_names=[Identifier(\"raw\")])]\n",
    "if example_model_id == \"impartial-shrimp\":\n",
    "    input_axes += [\n",
    "        SpaceInputAxis(id=AxisId(\"z\"), size=ParameterizedSize(min=16, step=8)),\n",
    "        SpaceInputAxis(id=AxisId('y'), size=ParameterizedSize(min=144, step=72)),\n",
    "        SpaceInputAxis(id=AxisId('x'), size=ParameterizedSize(min=144, step=72)),\n",
    "    ]\n",
    "    data_descr = IntervalOrRatioDataDescr(type=\"uint8\")\n",
    "elif example_model_id == \"pioneering-rhino\":\n",
    "    input_axes += [\n",
    "        SpaceInputAxis(id=AxisId('y'), size=ParameterizedSize(min=256, step=8)),\n",
    "        SpaceInputAxis(id=AxisId('x'), size=ParameterizedSize(min=256, step=8)),\n",
    "    ]\n",
    "    data_descr = IntervalOrRatioDataDescr()\n",
    "else:\n",
    "    raise NotImplementedError(f\"Recreating inputs for {example_model_id} is not implemented\")\n",
    "\n",
    "input_descr = InputTensorDescr(id=TensorId(\"raw\"), axes=input_axes, test_tensor=FileDescr(source=test_input_path), data=data_descr)\n"
   ]
  },
  {
   "cell_type": "markdown",
   "metadata": {},
   "source": [
    "... and describe the outputs very similarly:"
   ]
  },
  {
   "cell_type": "code",
   "execution_count": null,
   "metadata": {},
   "outputs": [],
   "source": [
    "output_axes = [\n",
    "    BatchAxis(),\n",
    "    ChannelAxis(channel_names=[Identifier(\"membrane\")])]\n",
    "if example_model_id == \"impartial-shrimp\":\n",
    "    output_axes += [\n",
    "        SpaceOutputAxis(id=AxisId(\"z\"), size=ParameterizedSize(min=16, step=8)),  # implicitly same size as raw.z as it is parametrized the same.\n",
    "        SpaceOutputAxis(id=AxisId('y'), size=ParameterizedSize(min=144, step=72)),\n",
    "        SpaceOutputAxis(id=AxisId('x'), size=ParameterizedSize(min=144, step=72))\n",
    "    ]\n",
    "elif example_model_id == \"pioneering-rhino\":\n",
    "    output_axes += [\n",
    "        SpaceOutputAxis(id=AxisId(\"y\"), size=SizeReference(tensor_id=TensorId('raw'), axis_id=AxisId('y'))),  # explicitly same size as raw.y\n",
    "        SpaceOutputAxis(id=AxisId(\"x\"), size=SizeReference(tensor_id=TensorId('raw'), axis_id=AxisId('x'))),\n",
    "    ]\n",
    "else:\n",
    "    raise NotImplementedError(f\"Recreating outputs for {example_model_id} is not implemented\")\n",
    "\n",
    "output_descr = OutputTensorDescr(id=TensorId(\"prob\"), axes=output_axes, test_tensor=FileDescr(source=test_output_path))\n"
   ]
  },
  {
   "cell_type": "markdown",
   "metadata": {},
   "source": [
    "... and finish with describing the architecutre needed for the pytorch state dict weights:"
   ]
  },
  {
   "cell_type": "code",
   "execution_count": null,
   "metadata": {},
   "outputs": [],
   "source": [
    "from bioimageio.spec.model.v0_5 import (\n",
    "    ArchitectureFromFileDescr,\n",
    "    ArchitectureFromLibraryDescr,\n",
    "    Version,\n",
    ")\n",
    "\n",
    "try:\n",
    "    import torch\n",
    "except ImportError:\n",
    "    pytorch_version = Version(\"1.15\")\n",
    "else:\n",
    "    pytorch_version = Version(torch.__version__)\n",
    "\n",
    "pytorch_architecture = ArchitectureFromFileDescr(\n",
    "    source=arch_file_path,\n",
    "    sha256=arch_file_sha256,\n",
    "    callable=arch_name,\n",
    "    kwargs=arch_kwargs\n",
    ")\n",
    "# A model architecture published as a package may also be referenced\n",
    "# Make sure to include the library referenced in `import_from` in the `depdendencies`\n",
    "my_unused_arch = ArchitectureFromLibraryDescr(callable=Identifier(\"MyModel\"), import_from=\"my_library.subpackage\")\n"
   ]
  },
  {
   "cell_type": "markdown",
   "metadata": {},
   "source": [
    "now, we are ready to create a new model:"
   ]
  },
  {
   "cell_type": "code",
   "execution_count": null,
   "metadata": {},
   "outputs": [],
   "source": [
    "from bioimageio.spec.model.v0_5 import LicenseId\n",
    "\n",
    "my_model_descr = ModelDescr(\n",
    "    name=\"My cool model\",\n",
    "    description=\"A test model for demonstration purposes only\",\n",
    "    authors=[Author(name=\"me\", affiliation=\"my institute\", github_user=\"bioimageiobot\")],  # change github_user to your GitHub account name\n",
    "    cite=[CiteEntry(text=\"for model training see my paper\", doi=Doi(\"10.1234something\"))],\n",
    "    license=LicenseId(\"MIT\"),\n",
    "    documentation=HttpUrl(\"https://raw.githubusercontent.com/bioimage-io/spec-bioimage-io/main/README.md\"),\n",
    "    git_repo=HttpUrl(\"https://github.com/bioimage-io/spec-bioimage-io\"),  # change to repo where your model is developed\n",
    "    inputs=[input_descr],\n",
    "    outputs=[output_descr],\n",
    "    weights=WeightsDescr(\n",
    "        pytorch_state_dict=PytorchStateDictWeightsDescr(\n",
    "            source=pytorch_state_dict_weights_src,\n",
    "            architecture=pytorch_architecture,\n",
    "            pytorch_version=pytorch_version\n",
    "        ),\n",
    "        torchscript=TorchscriptWeightsDescr(\n",
    "            source=torchscript_weights_src,\n",
    "            pytorch_version=pytorch_version,\n",
    "            parent=\"pytorch_state_dict\", # these weights were converted from the pytorch_state_dict weights ones.\n",
    "        ),\n",
    "    ),\n",
    "    )\n",
    "\n",
    "print(\"created '{my_model_descr.name}'\")\n"
   ]
  },
  {
   "cell_type": "markdown",
   "metadata": {},
   "source": [
    "some optional fields were filed with default values, e.g. as we did not specify `covers`, a default visualization of the test inputs and test outputs was used:"
   ]
  },
  {
   "cell_type": "code",
   "execution_count": null,
   "metadata": {},
   "outputs": [],
   "source": [
    "for cover in my_model_descr.covers:\n",
    "    plt.imshow(imread(cover))\n",
    "    plt.xticks([])\n",
    "    plt.yticks([])\n",
    "    plt.show()\n"
   ]
  },
  {
   "cell_type": "markdown",
   "metadata": {},
   "source": [
    "## test your model"
   ]
  },
  {
   "cell_type": "code",
   "execution_count": null,
   "metadata": {},
   "outputs": [],
   "source": [
    "from bioimageio.core import test_model\n",
    "\n",
    "summary = test_model(my_model_descr)\n",
    "summary.display()"
   ]
  },
  {
   "cell_type": "markdown",
   "metadata": {},
   "source": [
    "side note: the validation summary is also available as a property"
   ]
  },
  {
   "cell_type": "code",
   "execution_count": null,
   "metadata": {},
   "outputs": [],
   "source": [
    "assert summary == my_model_descr.validation_summary"
   ]
  },
  {
   "cell_type": "markdown",
   "metadata": {},
   "source": [
    "## Package your model\n",
    "\n",
    "A model is more than it's YAML description file! We refer to a zip-file containing all files relevant to a model as a model package. "
   ]
  },
  {
   "cell_type": "code",
   "execution_count": null,
   "metadata": {},
   "outputs": [],
   "source": [
    "from pathlib import Path\n",
    "\n",
    "from bioimageio.spec import save_bioimageio_package\n",
    "\n",
    "print(\"package path:\", save_bioimageio_package(my_model_descr, output_path=Path('my_model.zip')))"
   ]
  },
  {
   "cell_type": "code",
   "execution_count": null,
   "metadata": {},
   "outputs": [],
   "source": []
  }
 ],
 "metadata": {
  "kernelspec": {
   "display_name": "bio38",
   "language": "python",
   "name": "python3"
  },
  "language_info": {
   "codemirror_mode": {
    "name": "ipython",
    "version": 3
   },
   "file_extension": ".py",
   "mimetype": "text/x-python",
   "name": "python",
   "nbconvert_exporter": "python",
   "pygments_lexer": "ipython3",
   "version": "3.8.17"
  },
  "orig_nbformat": 4
 },
 "nbformat": 4,
 "nbformat_minor": 2
}
