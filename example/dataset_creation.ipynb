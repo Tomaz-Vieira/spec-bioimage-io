{
 "cells": [
  {
   "cell_type": "markdown",
   "metadata": {},
   "source": [
    "# ⚠️ this notebook needs to be updated "
   ]
  },
  {
   "cell_type": "code",
   "execution_count": null,
   "metadata": {},
   "outputs": [],
   "source": [
    "from bioimageio.spec.pretty_validation_errors import (\n",
    "    enable_pretty_validation_errors_in_ipynb,\n",
    ")\n",
    "\n",
    "enable_pretty_validation_errors_in_ipynb()"
   ]
  },
  {
   "cell_type": "code",
   "execution_count": null,
   "metadata": {},
   "outputs": [],
   "source": [
    "from bioimageio.spec.dataset.v0_3 import (\n",
    "    Author,\n",
    "    CiteEntry,\n",
    "    Dataset,\n",
    "    HttpUrl,\n",
    "    RelativeFilePath,\n",
    ")\n",
    "\n",
    "nuclei_broad_data = Dataset(\n",
    "    name=\"Kaggle 2018 Data Science Bowl\",\n",
    "    description=\"This image data set contains a large number of segmented nuclei images and was created for the Kaggle \"\n",
    "    \"2018 Data Science Bowl sponsored by Booz Allen Hamilton with cash prizes. The image set was a testing ground \"\n",
    "    \"for the application of novel and cutting edge approaches in computer vision and machine learning to the \"\n",
    "    \"segmentation of the nuclei belonging to cells from a breadth of biological contexts.\",\n",
    "    documentation=RelativeFilePath(\"README.md\"),\n",
    "    covers=(\n",
    "        HttpUrl(\n",
    "            \"https://data.broadinstitute.org/bbbc/BBBC038/BBBC038exampleimage1.png\"\n",
    "        ),\n",
    "        HttpUrl(\n",
    "            \"https://data.broadinstitute.org/bbbc/BBBC038/BBBC038exampleimage2.png\"\n",
    "        ),\n",
    "        HttpUrl(\n",
    "            \"https://data.broadinstitute.org/bbbc/BBBC038/BBBC038exampleimage3.png\"\n",
    "        ),\n",
    "        HttpUrl(\n",
    "            \"https://data.broadinstitute.org/bbbc/BBBC038/BBBC038exampleimage4.png\"\n",
    "        ),\n",
    "        HttpUrl(\n",
    "            \"https://data.broadinstitute.org/bbbc/BBBC038/BBBC038exampleimage5.png\"\n",
    "        ),\n",
    "    ),\n",
    "    authors=(\n",
    "        Author(\n",
    "            name=\"Fynn Beuttenmueller\",\n",
    "            affiliation=\"EMBL\",\n",
    "            github_user=\"fynnbe\",\n",
    "            orcid=\"0000-0002-8567-6389\",\n",
    "        ),\n",
    "    ),\n",
    "    source=HttpUrl(\"https://bbbc.lbroadinstitute.org/BBBC038/\"),\n",
    "    cite=(\n",
    "        CiteEntry(\n",
    "            text=\"Caicedo, J.C., Goodman, A., Karhohs, K.W. et al. Nucleus segmentation across imaging experiments: \"\n",
    "            \"the 2018 Data Science Bowl. Nat Methods 16, 1247–1253 (2019).\",\n",
    "            url=\"10.1038/s41592-019-0612-7\",\n",
    "        ),\n",
    "        CiteEntry(\n",
    "            text=\"Allen Goodman, Anne Carpenter, Elizabeth Park, jlefman-nvidia, Josette_BoozAllen, Kyle, Maggie, \"\n",
    "            \"Nilofer, Peter Sedivec, Will Cukierski. (2018). 2018 Data Science Bowl . Kaggle.\",\n",
    "            url=\"https://kaggle.com/competitions/data-science-bowl-2018\",\n",
    "        ),\n",
    "    ),\n",
    "    license=\"CC0-1.0\",\n",
    ")"
   ]
  },
  {
   "cell_type": "code",
   "execution_count": null,
   "metadata": {},
   "outputs": [],
   "source": [
    "nuclei_broad_data.source"
   ]
  },
  {
   "cell_type": "code",
   "execution_count": null,
   "metadata": {},
   "outputs": [],
   "source": []
  }
 ],
 "metadata": {
  "kernelspec": {
   "display_name": "bio38",
   "language": "python",
   "name": "python3"
  },
  "language_info": {
   "codemirror_mode": {
    "name": "ipython",
    "version": 3
   },
   "file_extension": ".py",
   "mimetype": "text/x-python",
   "name": "python",
   "nbconvert_exporter": "python",
   "pygments_lexer": "ipython3",
   "version": "3.8.17"
  },
  "orig_nbformat": 4
 },
 "nbformat": 4,
 "nbformat_minor": 2
}
